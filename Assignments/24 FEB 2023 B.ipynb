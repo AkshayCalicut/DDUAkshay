{
 "cells": [
  {
   "cell_type": "markdown",
   "id": "65cbd930",
   "metadata": {},
   "source": [
    "# Treating outliers"
   ]
  },
  {
   "cell_type": "code",
   "execution_count": 1,
   "id": "4cac1e89",
   "metadata": {},
   "outputs": [],
   "source": [
    "import pandas as pd\n",
    "import numpy as np\n",
    "import matplotlib.pyplot as plt\n",
    "import seaborn as sns\n",
    "import warnings\n",
    "warnings.filterwarnings('ignore')"
   ]
  },
  {
   "cell_type": "markdown",
   "id": "a4da85d5",
   "metadata": {},
   "source": [
    "## Loading dataset from seaborn for demonstration"
   ]
  },
  {
   "cell_type": "code",
   "execution_count": null,
   "id": "d74c8d0d",
   "metadata": {},
   "outputs": [],
   "source": [
    "data = sns.load_dataset('Car_c')"
   ]
  }
 ],
 "metadata": {
  "kernelspec": {
   "display_name": "Python 3 (ipykernel)",
   "language": "python",
   "name": "python3"
  },
  "language_info": {
   "codemirror_mode": {
    "name": "ipython",
    "version": 3
   },
   "file_extension": ".py",
   "mimetype": "text/x-python",
   "name": "python",
   "nbconvert_exporter": "python",
   "pygments_lexer": "ipython3",
   "version": "3.9.13"
  }
 },
 "nbformat": 4,
 "nbformat_minor": 5
}
