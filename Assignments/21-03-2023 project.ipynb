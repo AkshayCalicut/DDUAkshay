{
 "cells": [
  {
   "cell_type": "code",
   "execution_count": 1,
   "id": "53ac4bc0",
   "metadata": {},
   "outputs": [],
   "source": [
    "import pandas as pd\n",
    "import numpy as np\n",
    "import seaborn as sns\n",
    "import matplotlib.pyplot as plt\n",
    "import klib as k\n",
    "%matplotlib inline\n",
    "import warnings\n",
    "warnings.filterwarnings('ignore')\n",
    "from sklearn import metrics\n",
    "from sklearn.metrics import accuracy_score,confusion_matrix,precision_score, roc_curve\n",
    "from sklearn.preprocessing import StandardScaler,LabelEncoder\n",
    "from sklearn.model_selection import train_test_split, cross_val_score\n",
    "from sklearn.linear_model import LogisticRegression"
   ]
  },
  {
   "cell_type": "code",
   "execution_count": 2,
   "id": "75950ee3",
   "metadata": {},
   "outputs": [
    {
     "data": {
      "text/html": [
       "<div>\n",
       "<style scoped>\n",
       "    .dataframe tbody tr th:only-of-type {\n",
       "        vertical-align: middle;\n",
       "    }\n",
       "\n",
       "    .dataframe tbody tr th {\n",
       "        vertical-align: top;\n",
       "    }\n",
       "\n",
       "    .dataframe thead th {\n",
       "        text-align: right;\n",
       "    }\n",
       "</style>\n",
       "<table border=\"1\" class=\"dataframe\">\n",
       "  <thead>\n",
       "    <tr style=\"text-align: right;\">\n",
       "      <th></th>\n",
       "      <th>Gender</th>\n",
       "      <th>Age</th>\n",
       "      <th>Height (cm)</th>\n",
       "      <th>Weight (kg)</th>\n",
       "      <th>Occupation</th>\n",
       "      <th>Education Level</th>\n",
       "      <th>Marital Status</th>\n",
       "      <th>Income (USD)</th>\n",
       "      <th>Favorite Color</th>\n",
       "      <th>Unnamed: 9</th>\n",
       "    </tr>\n",
       "  </thead>\n",
       "  <tbody>\n",
       "    <tr>\n",
       "      <th>0</th>\n",
       "      <td>male</td>\n",
       "      <td>32</td>\n",
       "      <td>175</td>\n",
       "      <td>70</td>\n",
       "      <td>Software Engineer</td>\n",
       "      <td>Master's Degree</td>\n",
       "      <td>Married</td>\n",
       "      <td>75000</td>\n",
       "      <td>Blue</td>\n",
       "      <td>NaN</td>\n",
       "    </tr>\n",
       "    <tr>\n",
       "      <th>1</th>\n",
       "      <td>male</td>\n",
       "      <td>25</td>\n",
       "      <td>182</td>\n",
       "      <td>85</td>\n",
       "      <td>Sales Representative</td>\n",
       "      <td>Bachelor's Degree</td>\n",
       "      <td>Single</td>\n",
       "      <td>45000</td>\n",
       "      <td>Green</td>\n",
       "      <td>NaN</td>\n",
       "    </tr>\n",
       "    <tr>\n",
       "      <th>2</th>\n",
       "      <td>female</td>\n",
       "      <td>41</td>\n",
       "      <td>160</td>\n",
       "      <td>62</td>\n",
       "      <td>Doctor</td>\n",
       "      <td>Doctorate Degree</td>\n",
       "      <td>Married</td>\n",
       "      <td>120000</td>\n",
       "      <td>Purple</td>\n",
       "      <td>NaN</td>\n",
       "    </tr>\n",
       "    <tr>\n",
       "      <th>3</th>\n",
       "      <td>male</td>\n",
       "      <td>38</td>\n",
       "      <td>178</td>\n",
       "      <td>79</td>\n",
       "      <td>Lawyer</td>\n",
       "      <td>Bachelor's Degree</td>\n",
       "      <td>Single</td>\n",
       "      <td>90000</td>\n",
       "      <td>Red</td>\n",
       "      <td>NaN</td>\n",
       "    </tr>\n",
       "    <tr>\n",
       "      <th>4</th>\n",
       "      <td>female</td>\n",
       "      <td>29</td>\n",
       "      <td>165</td>\n",
       "      <td>58</td>\n",
       "      <td>Graphic Designer</td>\n",
       "      <td>Associate's Degree</td>\n",
       "      <td>Single</td>\n",
       "      <td>35000</td>\n",
       "      <td>Yellow</td>\n",
       "      <td>NaN</td>\n",
       "    </tr>\n",
       "    <tr>\n",
       "      <th>5</th>\n",
       "      <td>male</td>\n",
       "      <td>45</td>\n",
       "      <td>190</td>\n",
       "      <td>92</td>\n",
       "      <td>Business Consultant</td>\n",
       "      <td>Master's Degree</td>\n",
       "      <td>Divorced</td>\n",
       "      <td>110000</td>\n",
       "      <td>Black</td>\n",
       "      <td>NaN</td>\n",
       "    </tr>\n",
       "    <tr>\n",
       "      <th>6</th>\n",
       "      <td>female</td>\n",
       "      <td>27</td>\n",
       "      <td>163</td>\n",
       "      <td>55</td>\n",
       "      <td>Marketing Specialist</td>\n",
       "      <td>Bachelor's Degree</td>\n",
       "      <td>Single</td>\n",
       "      <td>50000</td>\n",
       "      <td>Pink</td>\n",
       "      <td>NaN</td>\n",
       "    </tr>\n",
       "    <tr>\n",
       "      <th>7</th>\n",
       "      <td>male</td>\n",
       "      <td>52</td>\n",
       "      <td>179</td>\n",
       "      <td>83</td>\n",
       "      <td>CEO</td>\n",
       "      <td>Doctorate Degree</td>\n",
       "      <td>Married</td>\n",
       "      <td>500000</td>\n",
       "      <td>Blue</td>\n",
       "      <td>NaN</td>\n",
       "    </tr>\n",
       "    <tr>\n",
       "      <th>8</th>\n",
       "      <td>female</td>\n",
       "      <td>31</td>\n",
       "      <td>168</td>\n",
       "      <td>61</td>\n",
       "      <td>Project Manager</td>\n",
       "      <td>Bachelor's Degree</td>\n",
       "      <td>Married</td>\n",
       "      <td>80000</td>\n",
       "      <td>Green</td>\n",
       "      <td>NaN</td>\n",
       "    </tr>\n",
       "    <tr>\n",
       "      <th>9</th>\n",
       "      <td>male</td>\n",
       "      <td>36</td>\n",
       "      <td>177</td>\n",
       "      <td>76</td>\n",
       "      <td>Engineer</td>\n",
       "      <td>Master's Degree</td>\n",
       "      <td>Married</td>\n",
       "      <td>95000</td>\n",
       "      <td>Orange</td>\n",
       "      <td>NaN</td>\n",
       "    </tr>\n",
       "    <tr>\n",
       "      <th>10</th>\n",
       "      <td>female</td>\n",
       "      <td>24</td>\n",
       "      <td>162</td>\n",
       "      <td>53</td>\n",
       "      <td>Accountant</td>\n",
       "      <td>Bachelor's Degree</td>\n",
       "      <td>Single</td>\n",
       "      <td>40000</td>\n",
       "      <td>Blue</td>\n",
       "      <td>NaN</td>\n",
       "    </tr>\n",
       "    <tr>\n",
       "      <th>11</th>\n",
       "      <td>male</td>\n",
       "      <td>44</td>\n",
       "      <td>183</td>\n",
       "      <td>87</td>\n",
       "      <td>Architect</td>\n",
       "      <td>Bachelor's Degree</td>\n",
       "      <td>Widowed</td>\n",
       "      <td>120000</td>\n",
       "      <td>Grey</td>\n",
       "      <td>NaN</td>\n",
       "    </tr>\n",
       "  </tbody>\n",
       "</table>\n",
       "</div>"
      ],
      "text/plain": [
       "     Gender   Age   Height (cm)   Weight (kg)             Occupation  \\\n",
       "0      male    32           175            70      Software Engineer   \n",
       "1      male    25           182            85   Sales Representative   \n",
       "2    female    41           160            62                 Doctor   \n",
       "3      male    38           178            79                 Lawyer   \n",
       "4    female    29           165            58       Graphic Designer   \n",
       "5      male    45           190            92    Business Consultant   \n",
       "6    female    27           163            55   Marketing Specialist   \n",
       "7      male    52           179            83                    CEO   \n",
       "8    female    31           168            61        Project Manager   \n",
       "9      male    36           177            76               Engineer   \n",
       "10   female    24           162            53             Accountant   \n",
       "11     male    44           183            87              Architect   \n",
       "\n",
       "        Education Level  Marital Status   Income (USD)  Favorite Color  \\\n",
       "0       Master's Degree         Married          75000            Blue   \n",
       "1     Bachelor's Degree          Single          45000           Green   \n",
       "2      Doctorate Degree         Married         120000          Purple   \n",
       "3     Bachelor's Degree          Single          90000             Red   \n",
       "4    Associate's Degree          Single          35000          Yellow   \n",
       "5       Master's Degree        Divorced         110000           Black   \n",
       "6     Bachelor's Degree          Single          50000            Pink   \n",
       "7      Doctorate Degree         Married         500000            Blue   \n",
       "8     Bachelor's Degree         Married          80000           Green   \n",
       "9       Master's Degree         Married          95000          Orange   \n",
       "10    Bachelor's Degree          Single          40000            Blue   \n",
       "11    Bachelor's Degree         Widowed         120000            Grey   \n",
       "\n",
       "    Unnamed: 9  \n",
       "0          NaN  \n",
       "1          NaN  \n",
       "2          NaN  \n",
       "3          NaN  \n",
       "4          NaN  \n",
       "5          NaN  \n",
       "6          NaN  \n",
       "7          NaN  \n",
       "8          NaN  \n",
       "9          NaN  \n",
       "10         NaN  \n",
       "11         NaN  "
      ]
     },
     "execution_count": 2,
     "metadata": {},
     "output_type": "execute_result"
    }
   ],
   "source": [
    "df=pd.read_csv('./gender.csv')\n",
    "df.head(12)"
   ]
  },
  {
   "cell_type": "code",
   "execution_count": 3,
   "id": "7588aee4",
   "metadata": {},
   "outputs": [
    {
     "name": "stdout",
     "output_type": "stream",
     "text": [
      "<class 'pandas.core.frame.DataFrame'>\n",
      "RangeIndex: 131 entries, 0 to 130\n",
      "Data columns (total 10 columns):\n",
      " #   Column            Non-Null Count  Dtype  \n",
      "---  ------            --------------  -----  \n",
      " 0    Gender           131 non-null    object \n",
      " 1    Age              131 non-null    int64  \n",
      " 2    Height (cm)      131 non-null    int64  \n",
      " 3    Weight (kg)      131 non-null    int64  \n",
      " 4    Occupation       131 non-null    object \n",
      " 5    Education Level  131 non-null    object \n",
      " 6    Marital Status   131 non-null    object \n",
      " 7    Income (USD)     131 non-null    int64  \n",
      " 8    Favorite Color   131 non-null    object \n",
      " 9   Unnamed: 9        0 non-null      float64\n",
      "dtypes: float64(1), int64(4), object(5)\n",
      "memory usage: 10.4+ KB\n"
     ]
    }
   ],
   "source": [
    "df.info()"
   ]
  },
  {
   "cell_type": "code",
   "execution_count": 4,
   "id": "c143849b",
   "metadata": {},
   "outputs": [],
   "source": [
    "df.drop(columns='Unnamed: 9', inplace=True)"
   ]
  },
  {
   "cell_type": "code",
   "execution_count": 5,
   "id": "cbd8fc5f",
   "metadata": {},
   "outputs": [
    {
     "data": {
      "text/html": [
       "<div>\n",
       "<style scoped>\n",
       "    .dataframe tbody tr th:only-of-type {\n",
       "        vertical-align: middle;\n",
       "    }\n",
       "\n",
       "    .dataframe tbody tr th {\n",
       "        vertical-align: top;\n",
       "    }\n",
       "\n",
       "    .dataframe thead th {\n",
       "        text-align: right;\n",
       "    }\n",
       "</style>\n",
       "<table border=\"1\" class=\"dataframe\">\n",
       "  <thead>\n",
       "    <tr style=\"text-align: right;\">\n",
       "      <th></th>\n",
       "      <th>gender</th>\n",
       "      <th>age</th>\n",
       "      <th>height_cm</th>\n",
       "      <th>weight_kg</th>\n",
       "      <th>occupation</th>\n",
       "      <th>education_level</th>\n",
       "      <th>marital_status</th>\n",
       "      <th>income_usd</th>\n",
       "      <th>favorite_color</th>\n",
       "    </tr>\n",
       "  </thead>\n",
       "  <tbody>\n",
       "    <tr>\n",
       "      <th>0</th>\n",
       "      <td>male</td>\n",
       "      <td>32</td>\n",
       "      <td>175</td>\n",
       "      <td>70</td>\n",
       "      <td>Software Engineer</td>\n",
       "      <td>Master's Degree</td>\n",
       "      <td>Married</td>\n",
       "      <td>75000</td>\n",
       "      <td>Blue</td>\n",
       "    </tr>\n",
       "    <tr>\n",
       "      <th>1</th>\n",
       "      <td>male</td>\n",
       "      <td>25</td>\n",
       "      <td>182</td>\n",
       "      <td>85</td>\n",
       "      <td>Sales Representative</td>\n",
       "      <td>Bachelor's Degree</td>\n",
       "      <td>Single</td>\n",
       "      <td>45000</td>\n",
       "      <td>Green</td>\n",
       "    </tr>\n",
       "    <tr>\n",
       "      <th>2</th>\n",
       "      <td>female</td>\n",
       "      <td>41</td>\n",
       "      <td>160</td>\n",
       "      <td>62</td>\n",
       "      <td>Doctor</td>\n",
       "      <td>Doctorate Degree</td>\n",
       "      <td>Married</td>\n",
       "      <td>120000</td>\n",
       "      <td>Purple</td>\n",
       "    </tr>\n",
       "    <tr>\n",
       "      <th>3</th>\n",
       "      <td>male</td>\n",
       "      <td>38</td>\n",
       "      <td>178</td>\n",
       "      <td>79</td>\n",
       "      <td>Lawyer</td>\n",
       "      <td>Bachelor's Degree</td>\n",
       "      <td>Single</td>\n",
       "      <td>90000</td>\n",
       "      <td>Red</td>\n",
       "    </tr>\n",
       "    <tr>\n",
       "      <th>4</th>\n",
       "      <td>female</td>\n",
       "      <td>29</td>\n",
       "      <td>165</td>\n",
       "      <td>58</td>\n",
       "      <td>Graphic Designer</td>\n",
       "      <td>Associate's Degree</td>\n",
       "      <td>Single</td>\n",
       "      <td>35000</td>\n",
       "      <td>Yellow</td>\n",
       "    </tr>\n",
       "    <tr>\n",
       "      <th>...</th>\n",
       "      <td>...</td>\n",
       "      <td>...</td>\n",
       "      <td>...</td>\n",
       "      <td>...</td>\n",
       "      <td>...</td>\n",
       "      <td>...</td>\n",
       "      <td>...</td>\n",
       "      <td>...</td>\n",
       "      <td>...</td>\n",
       "    </tr>\n",
       "    <tr>\n",
       "      <th>126</th>\n",
       "      <td>female</td>\n",
       "      <td>32</td>\n",
       "      <td>170</td>\n",
       "      <td>64</td>\n",
       "      <td>Nurse</td>\n",
       "      <td>Associate's Degree</td>\n",
       "      <td>Single</td>\n",
       "      <td>60000</td>\n",
       "      <td>Orange</td>\n",
       "    </tr>\n",
       "    <tr>\n",
       "      <th>127</th>\n",
       "      <td>male</td>\n",
       "      <td>38</td>\n",
       "      <td>176</td>\n",
       "      <td>79</td>\n",
       "      <td>Project Manager</td>\n",
       "      <td>Bachelor's Degree</td>\n",
       "      <td>Married</td>\n",
       "      <td>90000</td>\n",
       "      <td>Black</td>\n",
       "    </tr>\n",
       "    <tr>\n",
       "      <th>128</th>\n",
       "      <td>female</td>\n",
       "      <td>27</td>\n",
       "      <td>162</td>\n",
       "      <td>55</td>\n",
       "      <td>Graphic Designer</td>\n",
       "      <td>Associate's Degree</td>\n",
       "      <td>Single</td>\n",
       "      <td>55000</td>\n",
       "      <td>Green</td>\n",
       "    </tr>\n",
       "    <tr>\n",
       "      <th>129</th>\n",
       "      <td>male</td>\n",
       "      <td>33</td>\n",
       "      <td>175</td>\n",
       "      <td>77</td>\n",
       "      <td>Sales Representative</td>\n",
       "      <td>Bachelor's Degree</td>\n",
       "      <td>Married</td>\n",
       "      <td>80000</td>\n",
       "      <td>Yellow</td>\n",
       "    </tr>\n",
       "    <tr>\n",
       "      <th>130</th>\n",
       "      <td>female</td>\n",
       "      <td>29</td>\n",
       "      <td>164</td>\n",
       "      <td>57</td>\n",
       "      <td>Software Developer</td>\n",
       "      <td>Bachelor's Degree</td>\n",
       "      <td>Single</td>\n",
       "      <td>65000</td>\n",
       "      <td>Blue</td>\n",
       "    </tr>\n",
       "  </tbody>\n",
       "</table>\n",
       "<p>131 rows × 9 columns</p>\n",
       "</div>"
      ],
      "text/plain": [
       "      gender  age  height_cm  weight_kg             occupation  \\\n",
       "0       male   32        175         70      Software Engineer   \n",
       "1       male   25        182         85   Sales Representative   \n",
       "2     female   41        160         62                 Doctor   \n",
       "3       male   38        178         79                 Lawyer   \n",
       "4     female   29        165         58       Graphic Designer   \n",
       "..       ...  ...        ...        ...                    ...   \n",
       "126   female   32        170         64                  Nurse   \n",
       "127     male   38        176         79        Project Manager   \n",
       "128   female   27        162         55       Graphic Designer   \n",
       "129     male   33        175         77   Sales Representative   \n",
       "130   female   29        164         57     Software Developer   \n",
       "\n",
       "         education_level marital_status  income_usd favorite_color  \n",
       "0        Master's Degree        Married       75000           Blue  \n",
       "1      Bachelor's Degree         Single       45000          Green  \n",
       "2       Doctorate Degree        Married      120000         Purple  \n",
       "3      Bachelor's Degree         Single       90000            Red  \n",
       "4     Associate's Degree         Single       35000         Yellow  \n",
       "..                   ...            ...         ...            ...  \n",
       "126   Associate's Degree         Single       60000         Orange  \n",
       "127    Bachelor's Degree        Married       90000          Black  \n",
       "128   Associate's Degree         Single       55000          Green  \n",
       "129    Bachelor's Degree        Married       80000         Yellow  \n",
       "130    Bachelor's Degree         Single       65000           Blue  \n",
       "\n",
       "[131 rows x 9 columns]"
      ]
     },
     "execution_count": 5,
     "metadata": {},
     "output_type": "execute_result"
    }
   ],
   "source": [
    "k.clean_column_names(df)"
   ]
  },
  {
   "cell_type": "code",
   "execution_count": 6,
   "id": "3f16e5a7",
   "metadata": {},
   "outputs": [],
   "source": [
    "df = df.rename(columns={'income_usd':'Income'})\n",
    "df = df.rename(columns={'height_cm':'height'})\n",
    "df = df.rename(columns={'weight_kg':'weight'})"
   ]
  },
  {
   "cell_type": "code",
   "execution_count": 7,
   "id": "b8014711",
   "metadata": {},
   "outputs": [
    {
     "data": {
      "text/html": [
       "<div>\n",
       "<style scoped>\n",
       "    .dataframe tbody tr th:only-of-type {\n",
       "        vertical-align: middle;\n",
       "    }\n",
       "\n",
       "    .dataframe tbody tr th {\n",
       "        vertical-align: top;\n",
       "    }\n",
       "\n",
       "    .dataframe thead th {\n",
       "        text-align: right;\n",
       "    }\n",
       "</style>\n",
       "<table border=\"1\" class=\"dataframe\">\n",
       "  <thead>\n",
       "    <tr style=\"text-align: right;\">\n",
       "      <th></th>\n",
       "      <th>count</th>\n",
       "      <th>mean</th>\n",
       "      <th>std</th>\n",
       "      <th>min</th>\n",
       "      <th>25%</th>\n",
       "      <th>50%</th>\n",
       "      <th>75%</th>\n",
       "      <th>max</th>\n",
       "    </tr>\n",
       "  </thead>\n",
       "  <tbody>\n",
       "    <tr>\n",
       "      <th>age</th>\n",
       "      <td>131.0</td>\n",
       "      <td>34.564885</td>\n",
       "      <td>5.984723</td>\n",
       "      <td>24.0</td>\n",
       "      <td>29.0</td>\n",
       "      <td>34.0</td>\n",
       "      <td>39.0</td>\n",
       "      <td>52.0</td>\n",
       "    </tr>\n",
       "    <tr>\n",
       "      <th>height</th>\n",
       "      <td>131.0</td>\n",
       "      <td>173.198473</td>\n",
       "      <td>8.045467</td>\n",
       "      <td>160.0</td>\n",
       "      <td>166.0</td>\n",
       "      <td>175.0</td>\n",
       "      <td>180.5</td>\n",
       "      <td>190.0</td>\n",
       "    </tr>\n",
       "    <tr>\n",
       "      <th>weight</th>\n",
       "      <td>131.0</td>\n",
       "      <td>71.458015</td>\n",
       "      <td>12.648052</td>\n",
       "      <td>50.0</td>\n",
       "      <td>60.0</td>\n",
       "      <td>75.0</td>\n",
       "      <td>83.0</td>\n",
       "      <td>94.0</td>\n",
       "    </tr>\n",
       "    <tr>\n",
       "      <th>Income</th>\n",
       "      <td>131.0</td>\n",
       "      <td>93206.106870</td>\n",
       "      <td>74045.382919</td>\n",
       "      <td>30000.0</td>\n",
       "      <td>55000.0</td>\n",
       "      <td>75000.0</td>\n",
       "      <td>100000.0</td>\n",
       "      <td>500000.0</td>\n",
       "    </tr>\n",
       "  </tbody>\n",
       "</table>\n",
       "</div>"
      ],
      "text/plain": [
       "        count          mean           std      min      25%      50%  \\\n",
       "age     131.0     34.564885      5.984723     24.0     29.0     34.0   \n",
       "height  131.0    173.198473      8.045467    160.0    166.0    175.0   \n",
       "weight  131.0     71.458015     12.648052     50.0     60.0     75.0   \n",
       "Income  131.0  93206.106870  74045.382919  30000.0  55000.0  75000.0   \n",
       "\n",
       "             75%       max  \n",
       "age         39.0      52.0  \n",
       "height     180.5     190.0  \n",
       "weight      83.0      94.0  \n",
       "Income  100000.0  500000.0  "
      ]
     },
     "execution_count": 7,
     "metadata": {},
     "output_type": "execute_result"
    }
   ],
   "source": [
    "df.describe().T"
   ]
  },
  {
   "cell_type": "code",
   "execution_count": 8,
   "id": "e87ba348",
   "metadata": {},
   "outputs": [
    {
     "data": {
      "text/plain": [
       "(131, 9)"
      ]
     },
     "execution_count": 8,
     "metadata": {},
     "output_type": "execute_result"
    }
   ],
   "source": [
    "df.shape"
   ]
  },
  {
   "cell_type": "code",
   "execution_count": 9,
   "id": "cdcdd8e3",
   "metadata": {},
   "outputs": [
    {
     "data": {
      "text/plain": [
       "gender             0\n",
       "age                0\n",
       "height             0\n",
       "weight             0\n",
       "occupation         0\n",
       "education_level    0\n",
       "marital_status     0\n",
       "Income             0\n",
       "favorite_color     0\n",
       "dtype: int64"
      ]
     },
     "execution_count": 9,
     "metadata": {},
     "output_type": "execute_result"
    }
   ],
   "source": [
    "df.isnull().sum()"
   ]
  },
  {
   "cell_type": "code",
   "execution_count": 10,
   "id": "d4fc33a6",
   "metadata": {},
   "outputs": [
    {
     "data": {
      "text/plain": [
       "Married      41\n",
       "Single       38\n",
       " Married     24\n",
       " Single      21\n",
       " Divorced     4\n",
       " Widowed      2\n",
       "Divorced      1\n",
       "Name: marital_status, dtype: int64"
      ]
     },
     "execution_count": 10,
     "metadata": {},
     "output_type": "execute_result"
    }
   ],
   "source": [
    "df.marital_status.value_counts()"
   ]
  },
  {
   "cell_type": "code",
   "execution_count": 11,
   "id": "dacd4315",
   "metadata": {},
   "outputs": [],
   "source": [
    "df['marital_status'].replace(' Single', 'Single', inplace=True)\n",
    "df['marital_status'].replace(' Married', 'Married', inplace=True)\n",
    "df['marital_status'].replace(' Divorced', 'Divorced', inplace=True)"
   ]
  },
  {
   "cell_type": "code",
   "execution_count": 12,
   "id": "f27ed567",
   "metadata": {},
   "outputs": [
    {
     "data": {
      "text/plain": [
       "Married     65\n",
       "Single      59\n",
       "Divorced     5\n",
       " Widowed     2\n",
       "Name: marital_status, dtype: int64"
      ]
     },
     "execution_count": 12,
     "metadata": {},
     "output_type": "execute_result"
    }
   ],
   "source": [
    "df.marital_status.value_counts()"
   ]
  },
  {
   "cell_type": "code",
   "execution_count": 13,
   "id": "b2f9dd2a",
   "metadata": {
    "scrolled": true
   },
   "outputs": [],
   "source": [
    "df['education_level'].replace(\" Bachelor's Degree\", \"Bachelor's Degree\", inplace=True)\n",
    "df['education_level'].replace(\" Associate's Degree\", \"Associate's Degree\", inplace=True)\n",
    "df['education_level'].replace(\" Master's Degree\", \"Master's Degree\", inplace=True)\n",
    "df['education_level'].replace(\" Doctorate Degree\", \"Doctorate Degree\", inplace=True)"
   ]
  },
  {
   "cell_type": "code",
   "execution_count": 14,
   "id": "386f0f6b",
   "metadata": {},
   "outputs": [
    {
     "data": {
      "text/plain": [
       "Bachelor's Degree     78\n",
       "Master's Degree       20\n",
       "Associate's Degree    18\n",
       "Doctorate Degree      15\n",
       "Name: education_level, dtype: int64"
      ]
     },
     "execution_count": 14,
     "metadata": {},
     "output_type": "execute_result"
    }
   ],
   "source": [
    "df.education_level.value_counts()"
   ]
  },
  {
   "cell_type": "code",
   "execution_count": 22,
   "id": "87e5ae01",
   "metadata": {},
   "outputs": [
    {
     "data": {
      "text/plain": [
       "Teacher                  7\n",
       "Nurse                    6\n",
       "Writer                   6\n",
       "Project Manager          6\n",
       "Marketing Specialist     6\n",
       "Lawyer                   6\n",
       "Graphic Designer         6\n",
       "Doctor                   6\n",
       "Engineer                 6\n",
       " Teacher                 5\n",
       "Architect                4\n",
       "Sales Representative     4\n",
       "IT Manager               4\n",
       " Writer                  3\n",
       " Sales Representative    3\n",
       "Business Analyst         3\n",
       "Accountant               3\n",
       "CEO                      3\n",
       " IT Manager              3\n",
       " Analyst                 3\n",
       " Nurse                   3\n",
       " Architect               3\n",
       " Accountant              3\n",
       " Engineer                3\n",
       " Project Manager         3\n",
       " CEO                     3\n",
       " Marketing Specialist    3\n",
       "Analyst                  3\n",
       " Graphic Designer        3\n",
       " Lawyer                  3\n",
       " Doctor                  3\n",
       " Business Analyst        2\n",
       " Software Engineer       1\n",
       " Business Consultant     1\n",
       "Software Developer       1\n",
       "Name: occupation, dtype: int64"
      ]
     },
     "execution_count": 22,
     "metadata": {},
     "output_type": "execute_result"
    }
   ],
   "source": [
    "df.occupation.value_counts()"
   ]
  },
  {
   "cell_type": "code",
   "execution_count": 46,
   "id": "284ce348",
   "metadata": {},
   "outputs": [],
   "source": [
    "df['occupation'].replace(\" Teacher\", \"Teacher\", inplace=True)\n",
    "df['occupation'].replace(\" Nurse\", \"Nurse\", inplace=True)\n",
    "df['occupation'].replace(\" Writer\", \"Writer\", inplace=True)\n",
    "df['occupation'].replace(\" Project Manager\", \"Project Manager\", inplace=True)\n",
    "df['occupation'].replace(\" Marketing Specialist\", \"Marketing Specialist\", inplace=True)\n",
    "df['occupation'].replace(\" Lawyer\", \"Lawyer\", inplace=True)\n",
    "df['occupation'].replace(\" Graphic Designer\", \"Graphic Designer\", inplace=True)\n",
    "df['occupation'].replace(\" Doctor\", \"Doctor\", inplace=True)\n",
    "df['occupation'].replace(\" Engineer\", \"Engineer\", inplace=True)\n",
    "df['occupation'].replace(\" Architect\", \"Architect\", inplace=True)\n",
    "df['occupation'].replace(\" Sales Representative\", \"Sales Representative\", inplace=True)\n",
    "df['occupation'].replace(\" IT Manager\", \"IT Manager\", inplace=True)\n",
    "df['occupation'].replace(\" Business Analyst\", \"Business Analyst\", inplace=True)\n",
    "df['occupation'].replace(\" Accountant\", \"Accountant\", inplace=True)\n",
    "df['occupation'].replace(\" CEO\", \"CEO\", inplace=True)\n",
    "df['occupation'].replace(\" Analyst\", \"Analyst\", inplace=True)\n",
    "df['occupation'].replace(\" Analyst\", \"Analyst\", inplace=True)"
   ]
  },
  {
   "cell_type": "code",
   "execution_count": 49,
   "id": "7011ca6c",
   "metadata": {},
   "outputs": [
    {
     "data": {
      "text/plain": [
       "Blue       13\n",
       "Green      13\n",
       "Purple     11\n",
       "Red        11\n",
       "Yellow     10\n",
       "Orange      9\n",
       " Green      8\n",
       "Black       8\n",
       " Blue       8\n",
       " Pink       6\n",
       " Yellow     6\n",
       " Red        6\n",
       " Purple     6\n",
       " Grey       4\n",
       " Black      4\n",
       "Grey        4\n",
       " Orange     3\n",
       "Pink        1\n",
       "Name: favorite_color, dtype: int64"
      ]
     },
     "execution_count": 49,
     "metadata": {},
     "output_type": "execute_result"
    }
   ],
   "source": [
    "df.favorite_color.value_counts()"
   ]
  },
  {
   "cell_type": "code",
   "execution_count": 54,
   "id": "d075276c",
   "metadata": {},
   "outputs": [],
   "source": [
    "df['favorite_color'].replace(\" Blue\", \"Blue\", inplace=True)\n",
    "df['favorite_color'].replace(\" Green\", \"Green\", inplace=True)\n",
    "df['favorite_color'].replace(\" Purple\", \"Purple\", inplace=True)\n",
    "df['favorite_color'].replace(\" Red\", \"Red\", inplace=True)\n",
    "df['favorite_color'].replace(\" Yellow\", \"Yellow\", inplace=True)\n",
    "df['favorite_color'].replace(\" Orange\", \"Orange\", inplace=True)\n",
    "df['favorite_color'].replace(\" Black\", \"Black\", inplace=True)\n",
    "df['favorite_color'].replace(\" Pink\", \"Pink\", inplace=True)\n",
    "df['favorite_color'].replace(\" Grey\", \"Grey\", inplace=True)"
   ]
  },
  {
   "cell_type": "code",
   "execution_count": 62,
   "id": "5b8742cb",
   "metadata": {},
   "outputs": [],
   "source": [
    "df['gender'].replace(\" male\", \"male\", inplace=True)\n",
    "df['gender'].replace(\" female\", \"female\", inplace=True)"
   ]
  },
  {
   "cell_type": "code",
   "execution_count": 63,
   "id": "93334baf",
   "metadata": {},
   "outputs": [
    {
     "data": {
      "text/plain": [
       "male      68\n",
       "female    63\n",
       "Name: gender, dtype: int64"
      ]
     },
     "execution_count": 63,
     "metadata": {},
     "output_type": "execute_result"
    }
   ],
   "source": [
    "df.gender.value_counts()"
   ]
  },
  {
   "cell_type": "code",
   "execution_count": 66,
   "id": "f035029d",
   "metadata": {},
   "outputs": [
    {
     "data": {
      "image/png": "[encoded data removed]",
      "text/plain": [
       "<Figure size 1900x700 with 1 Axes>"
      ]
     },
     "metadata": {},
     "output_type": "display_data"
    }
   ],
   "source": [
    "plt.figure(figsize=(19,7))\n",
    "sns.lineplot(x='marital_status',y='Income', data=df)\n",
    "plt.show()"
   ]
  },
  {
   "cell_type": "code",
   "execution_count": 67,
   "id": "9fdf80d9",
   "metadata": {},
   "outputs": [
    {
     "data": {
      "text/plain": [
       "<AxesSubplot:ylabel='Income'>"
      ]
     },
     "execution_count": 67,
     "metadata": {},
     "output_type": "execute_result"
    },
    {
     "data": {
      "image/png": "[encoded data removed]",
      "text/plain": [
       "<Figure size 640x480 with 1 Axes>"
      ]
     },
     "metadata": {},
     "output_type": "display_data"
    }
   ],
   "source": [
    "gender_Weight=df.groupby(['marital_status'])['Income'].sum()\n",
    "gender_Weight.plot.pie()"
   ]
  },
  {
   "cell_type": "code",
   "execution_count": null,
   "id": "13a8714c",
   "metadata": {},
   "outputs": [],
   "source": []
  }
 ],
 "metadata": {
  "kernelspec": {
   "display_name": "Python 3 (ipykernel)",
   "language": "python",
   "name": "python3"
  },
  "language_info": {
   "codemirror_mode": {
    "name": "ipython",
    "version": 3
   },
   "file_extension": ".py",
   "mimetype": "text/x-python",
   "name": "python",
   "nbconvert_exporter": "python",
   "pygments_lexer": "ipython3",
   "version": "3.9.13"
  }
 },
 "nbformat": 4,
 "nbformat_minor": 5
}
